{
  "nbformat": 4,
  "nbformat_minor": 0,
  "metadata": {
    "colab": {
      "provenance": []
    },
    "kernelspec": {
      "name": "python3",
      "display_name": "Python 3"
    },
    "language_info": {
      "name": "python"
    }
  },
  "cells": [
    {
      "cell_type": "markdown",
      "source": [
        "#                        Topic: PYTHON BASIC VARIABLES\n",
        "\n"
      ],
      "metadata": {
        "id": "lDg9ML3iCYTj"
      }
    },
    {
      "cell_type": "markdown",
      "source": [
        "####1. Declare two variables, `x` and `y`, and assign them integer values. Swap the values of these variables without using any temporary variable"
      ],
      "metadata": {
        "id": "4HGIDIHQDrGN"
      }
    },
    {
      "cell_type": "code",
      "source": [
        "x=10\n",
        "y=20\n",
        "x=x+y\n",
        "y=x-y\n",
        "x=x-y\n"
      ],
      "metadata": {
        "id": "sc4tw8bVaUNn"
      },
      "execution_count": 8,
      "outputs": []
    },
    {
      "cell_type": "code",
      "source": [
        "print(x)\n",
        "y"
      ],
      "metadata": {
        "colab": {
          "base_uri": "https://localhost:8080/"
        },
        "id": "6Rqex_hugg0R",
        "outputId": "13b2728c-1c77-410b-f516-4ef54b12e06f"
      },
      "execution_count": 9,
      "outputs": [
        {
          "output_type": "stream",
          "name": "stdout",
          "text": [
            "20\n"
          ]
        },
        {
          "output_type": "execute_result",
          "data": {
            "text/plain": [
              "10"
            ]
          },
          "metadata": {},
          "execution_count": 9
        }
      ]
    },
    {
      "cell_type": "markdown",
      "source": [
        "####2. Create a program that calculates the area of a rectangle. Take the length and width as inputs from the user and store them in variables. Calculate and display the area.\n"
      ],
      "metadata": {
        "id": "xKY32oJqjOZR"
      }
    },
    {
      "cell_type": "code",
      "source": [
        "length=int(input(\"Enter the length of the triangle:\"))"
      ],
      "metadata": {
        "colab": {
          "base_uri": "https://localhost:8080/"
        },
        "id": "hkXbDRNrgjBK",
        "outputId": "4dffd709-095e-4795-8915-ae9469923f36"
      },
      "execution_count": 11,
      "outputs": [
        {
          "name": "stdout",
          "output_type": "stream",
          "text": [
            "Enter the length of the triangle10\n"
          ]
        }
      ]
    },
    {
      "cell_type": "code",
      "source": [
        "width=int(input(\"Enter the width of the triangle:\"))"
      ],
      "metadata": {
        "colab": {
          "base_uri": "https://localhost:8080/"
        },
        "id": "2HgBJfMjhbP2",
        "outputId": "5a093ad4-c967-4c08-ba46-a7ce7cb2be35"
      },
      "execution_count": 12,
      "outputs": [
        {
          "name": "stdout",
          "output_type": "stream",
          "text": [
            "Enter the width of the triangle10\n"
          ]
        }
      ]
    },
    {
      "cell_type": "code",
      "source": [
        "Area= (length*width)/2"
      ],
      "metadata": {
        "id": "2huQh-0Thm9f"
      },
      "execution_count": 13,
      "outputs": []
    },
    {
      "cell_type": "code",
      "source": [
        "print(\"Area of Rectangle\",Area)"
      ],
      "metadata": {
        "colab": {
          "base_uri": "https://localhost:8080/"
        },
        "id": "LaD7ytyfhtI_",
        "outputId": "1da7750f-7409-41a0-b27e-ecf3db77fab2"
      },
      "execution_count": 15,
      "outputs": [
        {
          "output_type": "stream",
          "name": "stdout",
          "text": [
            "Area of Rectangle 50.0\n"
          ]
        }
      ]
    },
    {
      "cell_type": "markdown",
      "source": [
        "####3. Write a Python program that converts temperatures from Celsius to\n",
        "#### Fahrenheit. Take the temperature in Celsius as input, store it in a variable,\n",
        "####convert it to Fahrenheit, and display the result."
      ],
      "metadata": {
        "id": "kzSIIID0j0NL"
      }
    },
    {
      "cell_type": "code",
      "source": [
        "celsius=int(input(\"Enter the temperature in Celsius:\"))"
      ],
      "metadata": {
        "colab": {
          "base_uri": "https://localhost:8080/"
        },
        "id": "6KZ_uUIXhuhU",
        "outputId": "3605d316-0ae2-4727-c166-e6f75bf9190f"
      },
      "execution_count": 3,
      "outputs": [
        {
          "name": "stdout",
          "output_type": "stream",
          "text": [
            "Enter the temperature in Celsius:30\n"
          ]
        }
      ]
    },
    {
      "cell_type": "markdown",
      "source": [
        "#### Formula to convert celsius to Fahrenheit\n",
        "#### F = (9/5)C +32"
      ],
      "metadata": {
        "id": "Jjyyy2ZFAdmN"
      }
    },
    {
      "cell_type": "code",
      "source": [
        "Fahrenheit= (9/5)*celsius +32\n",
        "print(\"Temperature in Fahrenheit is:\",Fahrenheit)"
      ],
      "metadata": {
        "colab": {
          "base_uri": "https://localhost:8080/"
        },
        "id": "EyFAk7M8BUG0",
        "outputId": "57f090c5-7acf-4049-974e-c4581a5c055b"
      },
      "execution_count": 4,
      "outputs": [
        {
          "output_type": "stream",
          "name": "stdout",
          "text": [
            "Temperature in Fahrenheit is: 86.0\n"
          ]
        }
      ]
    },
    {
      "cell_type": "markdown",
      "source": [
        "# TOPIC: String Based Questions"
      ],
      "metadata": {
        "id": "4TuFPRCdEFXb"
      }
    },
    {
      "cell_type": "markdown",
      "source": [
        "#### 1. Write a Python program that takes a string as input and prints the length of the string."
      ],
      "metadata": {
        "id": "Cg0lkK3iERDE"
      }
    },
    {
      "cell_type": "code",
      "source": [
        "input_word= input(\"Enter the string \")\n",
        "print(\"The length of the string is \",len(input_word))"
      ],
      "metadata": {
        "colab": {
          "base_uri": "https://localhost:8080/"
        },
        "id": "SDASWjjpEaYy",
        "outputId": "2b72e59a-1725-44bc-9ed8-406cef40771d"
      },
      "execution_count": 6,
      "outputs": [
        {
          "output_type": "stream",
          "name": "stdout",
          "text": [
            "Enter the string PWskills\n",
            "The length of the string is  8\n"
          ]
        }
      ]
    },
    {
      "cell_type": "markdown",
      "source": [
        "#### 2. Create a program that takes a sentence from the user and counts the number\n",
        "#### of vowels (a, e, i, o, u) in the string."
      ],
      "metadata": {
        "id": "Qp57onFFEvHK"
      }
    },
    {
      "cell_type": "code",
      "source": [
        "sentence = input(\"Enter your sentence here..\")\n",
        "count =0\n",
        "vowels=['a','e','i','o','u']\n",
        "for i in sentence:\n",
        "  if i in vowels:\n",
        "    count+=1\n",
        "print(count)"
      ],
      "metadata": {
        "colab": {
          "base_uri": "https://localhost:8080/"
        },
        "id": "es1dBnDKE5rx",
        "outputId": "5a3a5352-68a6-48a2-9943-55808230d059"
      },
      "execution_count": 1,
      "outputs": [
        {
          "output_type": "stream",
          "name": "stdout",
          "text": [
            "Enter your sentence here..this is my test\n",
            "3\n"
          ]
        }
      ]
    },
    {
      "cell_type": "markdown",
      "source": [
        "####3. Given a string, reverse the order of characters using string slicing and print the reversed string.\n"
      ],
      "metadata": {
        "id": "JfmokXePXpte"
      }
    },
    {
      "cell_type": "code",
      "source": [
        "inp_str=input(\"Enter the string\")\n",
        "print(\"Reverse String is:\",inp_str[::-1])"
      ],
      "metadata": {
        "colab": {
          "base_uri": "https://localhost:8080/"
        },
        "id": "kiMCgr6JXutS",
        "outputId": "d26193d8-c237-4f04-fe7d-b7d12f3934f0"
      },
      "execution_count": 5,
      "outputs": [
        {
          "output_type": "stream",
          "name": "stdout",
          "text": [
            "Enter the stringPWSkills\n",
            "Reverse String is: sllikSWP\n"
          ]
        }
      ]
    },
    {
      "cell_type": "markdown",
      "source": [
        "#### 4. Write a program that takes a string as input and checks if it is a palindrome (reads the same forwards and backwards)."
      ],
      "metadata": {
        "id": "8Tj207nrYKsA"
      }
    },
    {
      "cell_type": "code",
      "source": [
        "input_str=input(\"Enter the string: \")\n",
        "if input_str==input_str[::-1]:\n",
        "  print(\"String is Palindrome\")\n",
        "else:\n",
        "  print(\"String is not Palindrome\")"
      ],
      "metadata": {
        "colab": {
          "base_uri": "https://localhost:8080/"
        },
        "id": "ub_TVInmYRy5",
        "outputId": "b3afb76d-df65-4899-de92-e3914764c926"
      },
      "execution_count": 7,
      "outputs": [
        {
          "output_type": "stream",
          "name": "stdout",
          "text": [
            "Enter the stringnaman\n",
            "String is Palindrome\n"
          ]
        }
      ]
    },
    {
      "cell_type": "markdown",
      "source": [
        "####5. Create a program that takes a string as input and removes all the spaces from it. Print the modified string without spaces."
      ],
      "metadata": {
        "id": "K5pD4rrugiaL"
      }
    },
    {
      "cell_type": "code",
      "source": [
        "input_spaces=input(\"Enter the string\")\n",
        "new_input=input_spaces.split()\n",
        "for i in new_input:\n",
        "  print(i,end=\"\")"
      ],
      "metadata": {
        "colab": {
          "base_uri": "https://localhost:8080/"
        },
        "id": "PPwhwvkA-UrO",
        "outputId": "c480b5a2-47c1-48bb-f288-45e270cf80f4"
      },
      "execution_count": 4,
      "outputs": [
        {
          "output_type": "stream",
          "name": "stdout",
          "text": [
            "Enter the stringthis is test case\n",
            "thisistestcase"
          ]
        }
      ]
    }
  ]
}